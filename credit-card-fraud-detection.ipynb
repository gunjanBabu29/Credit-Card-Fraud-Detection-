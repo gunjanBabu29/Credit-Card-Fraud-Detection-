{
 "cells": [
  {
   "cell_type": "markdown",
   "id": "5f5e556e",
   "metadata": {},
   "source": [
    "# Credit Card Fraud Detection\n",
    "## Gunjan Kumar"
   ]
  },
  {
   "cell_type": "code",
   "execution_count": 1,
   "id": "3c4b4dbb",
   "metadata": {
    "_cell_guid": "b1076dfc-b9ad-4769-8c92-a6c4dae69d19",
    "_uuid": "8f2839f25d086af736a60e9eeb907d3b93b6e0e5",
    "execution": {
     "iopub.execute_input": "2024-06-19T08:15:20.185942Z",
     "iopub.status.busy": "2024-06-19T08:15:20.185542Z",
     "iopub.status.idle": "2024-06-19T08:15:20.203644Z",
     "shell.execute_reply": "2024-06-19T08:15:20.202611Z"
    },
    "papermill": {
     "duration": 0.029612,
     "end_time": "2024-06-19T08:15:20.206439",
     "exception": false,
     "start_time": "2024-06-19T08:15:20.176827",
     "status": "completed"
    },
    "tags": []
   },
   "outputs": [
    {
     "name": "stdout",
     "output_type": "stream",
     "text": [
      "/kaggle/input/creditcardfraud/creditcard.csv\n"
     ]
    }
   ],
   "source": [
    "# This Python 3 environment comes with many helpful analytics libraries installed\n",
    "# It is defined by the kaggle/python Docker image: https://github.com/kaggle/docker-python\n",
    "# For example, here's several helpful packages to load\n",
    "\n",
    "import numpy as np # linear algebra\n",
    "import pandas as pd # data processing, CSV file I/O (e.g. pd.read_csv)\n",
    "\n",
    "# Input data files are available in the read-only \"../input/\" directory\n",
    "# For example, running this (by clicking run or pressing Shift+Enter) will list all files under the input directory\n",
    "\n",
    "import os\n",
    "for dirname, _, filenames in os.walk('/kaggle/input'):\n",
    "    for filename in filenames:\n",
    "        print(os.path.join(dirname, filename))\n",
    "\n",
    "# You can write up to 20GB to the current directory (/kaggle/working/) that gets preserved as output when you create a version using \"Save & Run All\" \n",
    "# You can also write temporary files to /kaggle/temp/, but they won't be saved outside of the current session"
   ]
  },
  {
   "cell_type": "code",
   "execution_count": null,
   "id": "5db8fa05",
   "metadata": {
    "papermill": {
     "duration": 0.006457,
     "end_time": "2024-06-19T08:15:20.219835",
     "exception": false,
     "start_time": "2024-06-19T08:15:20.213378",
     "status": "completed"
    },
    "tags": []
   },
   "outputs": [],
   "source": []
  },
  {
   "cell_type": "markdown",
   "id": "881ebe6c",
   "metadata": {
    "papermill": {
     "duration": 0.006302,
     "end_time": "2024-06-19T08:15:20.233019",
     "exception": false,
     "start_time": "2024-06-19T08:15:20.226717",
     "status": "completed"
    },
    "tags": []
   },
   "source": [
    "Importing Packages"
   ]
  },
  {
   "cell_type": "code",
   "execution_count": 2,
   "id": "7f6ef1e0",
   "metadata": {
    "execution": {
     "iopub.execute_input": "2024-06-19T08:15:20.248696Z",
     "iopub.status.busy": "2024-06-19T08:15:20.248299Z",
     "iopub.status.idle": "2024-06-19T08:15:22.224153Z",
     "shell.execute_reply": "2024-06-19T08:15:22.222972Z"
    },
    "papermill": {
     "duration": 1.987243,
     "end_time": "2024-06-19T08:15:22.226912",
     "exception": false,
     "start_time": "2024-06-19T08:15:20.239669",
     "status": "completed"
    },
    "tags": []
   },
   "outputs": [
    {
     "name": "stderr",
     "output_type": "stream",
     "text": [
      "/opt/conda/lib/python3.10/site-packages/scipy/__init__.py:146: UserWarning: A NumPy version >=1.16.5 and <1.23.0 is required for this version of SciPy (detected version 1.23.5\n",
      "  warnings.warn(f\"A NumPy version >={np_minversion} and <{np_maxversion}\"\n"
     ]
    }
   ],
   "source": [
    "import pandas as pd # data processing\n",
    "import numpy as np # numarical computation and for working with arrays\n",
    "import matplotlib.pyplot as plt # visualization\n",
    "import seaborn as sns # advance visualization\n",
    "from termcolor import colored as cl # text customization\n",
    "\n",
    "from sklearn.preprocessing import StandardScaler # data normalization\n",
    "from sklearn.model_selection import train_test_split # data split\n",
    "from sklearn.linear_model import LogisticRegression # Logistic Regression algorithm\n",
    "from sklearn.ensemble import RandomForestClassifier # Random Forest algorithm\n",
    "\n",
    "from sklearn.metrics import confusion_matrix # evaluation metric\n",
    "from sklearn.metrics import accuracy_score # evaluation metric\n",
    "from sklearn.metrics import f1_score # evaluation metric"
   ]
  },
  {
   "cell_type": "markdown",
   "id": "ccda4b9e",
   "metadata": {
    "papermill": {
     "duration": 0.006718,
     "end_time": "2024-06-19T08:15:22.241085",
     "exception": false,
     "start_time": "2024-06-19T08:15:22.234367",
     "status": "completed"
    },
    "tags": []
   },
   "source": [
    "Importing Data"
   ]
  },
  {
   "cell_type": "code",
   "execution_count": 3,
   "id": "4db3780a",
   "metadata": {
    "execution": {
     "iopub.execute_input": "2024-06-19T08:15:22.257084Z",
     "iopub.status.busy": "2024-06-19T08:15:22.256186Z",
     "iopub.status.idle": "2024-06-19T08:15:27.047523Z",
     "shell.execute_reply": "2024-06-19T08:15:27.046437Z"
    },
    "papermill": {
     "duration": 4.802466,
     "end_time": "2024-06-19T08:15:27.050396",
     "exception": false,
     "start_time": "2024-06-19T08:15:22.247930",
     "status": "completed"
    },
    "tags": []
   },
   "outputs": [
    {
     "data": {
      "text/html": [
       "<div>\n",
       "<style scoped>\n",
       "    .dataframe tbody tr th:only-of-type {\n",
       "        vertical-align: middle;\n",
       "    }\n",
       "\n",
       "    .dataframe tbody tr th {\n",
       "        vertical-align: top;\n",
       "    }\n",
       "\n",
       "    .dataframe thead th {\n",
       "        text-align: right;\n",
       "    }\n",
       "</style>\n",
       "<table border=\"1\" class=\"dataframe\">\n",
       "  <thead>\n",
       "    <tr style=\"text-align: right;\">\n",
       "      <th></th>\n",
       "      <th>V1</th>\n",
       "      <th>V2</th>\n",
       "      <th>V3</th>\n",
       "      <th>V4</th>\n",
       "      <th>V5</th>\n",
       "      <th>V6</th>\n",
       "      <th>V7</th>\n",
       "      <th>V8</th>\n",
       "      <th>V9</th>\n",
       "      <th>V10</th>\n",
       "      <th>...</th>\n",
       "      <th>V21</th>\n",
       "      <th>V22</th>\n",
       "      <th>V23</th>\n",
       "      <th>V24</th>\n",
       "      <th>V25</th>\n",
       "      <th>V26</th>\n",
       "      <th>V27</th>\n",
       "      <th>V28</th>\n",
       "      <th>Amount</th>\n",
       "      <th>Class</th>\n",
       "    </tr>\n",
       "  </thead>\n",
       "  <tbody>\n",
       "    <tr>\n",
       "      <th>0</th>\n",
       "      <td>-1.359807</td>\n",
       "      <td>-0.072781</td>\n",
       "      <td>2.536347</td>\n",
       "      <td>1.378155</td>\n",
       "      <td>-0.338321</td>\n",
       "      <td>0.462388</td>\n",
       "      <td>0.239599</td>\n",
       "      <td>0.098698</td>\n",
       "      <td>0.363787</td>\n",
       "      <td>0.090794</td>\n",
       "      <td>...</td>\n",
       "      <td>-0.018307</td>\n",
       "      <td>0.277838</td>\n",
       "      <td>-0.110474</td>\n",
       "      <td>0.066928</td>\n",
       "      <td>0.128539</td>\n",
       "      <td>-0.189115</td>\n",
       "      <td>0.133558</td>\n",
       "      <td>-0.021053</td>\n",
       "      <td>149.62</td>\n",
       "      <td>0</td>\n",
       "    </tr>\n",
       "    <tr>\n",
       "      <th>1</th>\n",
       "      <td>1.191857</td>\n",
       "      <td>0.266151</td>\n",
       "      <td>0.166480</td>\n",
       "      <td>0.448154</td>\n",
       "      <td>0.060018</td>\n",
       "      <td>-0.082361</td>\n",
       "      <td>-0.078803</td>\n",
       "      <td>0.085102</td>\n",
       "      <td>-0.255425</td>\n",
       "      <td>-0.166974</td>\n",
       "      <td>...</td>\n",
       "      <td>-0.225775</td>\n",
       "      <td>-0.638672</td>\n",
       "      <td>0.101288</td>\n",
       "      <td>-0.339846</td>\n",
       "      <td>0.167170</td>\n",
       "      <td>0.125895</td>\n",
       "      <td>-0.008983</td>\n",
       "      <td>0.014724</td>\n",
       "      <td>2.69</td>\n",
       "      <td>0</td>\n",
       "    </tr>\n",
       "    <tr>\n",
       "      <th>2</th>\n",
       "      <td>-1.358354</td>\n",
       "      <td>-1.340163</td>\n",
       "      <td>1.773209</td>\n",
       "      <td>0.379780</td>\n",
       "      <td>-0.503198</td>\n",
       "      <td>1.800499</td>\n",
       "      <td>0.791461</td>\n",
       "      <td>0.247676</td>\n",
       "      <td>-1.514654</td>\n",
       "      <td>0.207643</td>\n",
       "      <td>...</td>\n",
       "      <td>0.247998</td>\n",
       "      <td>0.771679</td>\n",
       "      <td>0.909412</td>\n",
       "      <td>-0.689281</td>\n",
       "      <td>-0.327642</td>\n",
       "      <td>-0.139097</td>\n",
       "      <td>-0.055353</td>\n",
       "      <td>-0.059752</td>\n",
       "      <td>378.66</td>\n",
       "      <td>0</td>\n",
       "    </tr>\n",
       "    <tr>\n",
       "      <th>3</th>\n",
       "      <td>-0.966272</td>\n",
       "      <td>-0.185226</td>\n",
       "      <td>1.792993</td>\n",
       "      <td>-0.863291</td>\n",
       "      <td>-0.010309</td>\n",
       "      <td>1.247203</td>\n",
       "      <td>0.237609</td>\n",
       "      <td>0.377436</td>\n",
       "      <td>-1.387024</td>\n",
       "      <td>-0.054952</td>\n",
       "      <td>...</td>\n",
       "      <td>-0.108300</td>\n",
       "      <td>0.005274</td>\n",
       "      <td>-0.190321</td>\n",
       "      <td>-1.175575</td>\n",
       "      <td>0.647376</td>\n",
       "      <td>-0.221929</td>\n",
       "      <td>0.062723</td>\n",
       "      <td>0.061458</td>\n",
       "      <td>123.50</td>\n",
       "      <td>0</td>\n",
       "    </tr>\n",
       "    <tr>\n",
       "      <th>4</th>\n",
       "      <td>-1.158233</td>\n",
       "      <td>0.877737</td>\n",
       "      <td>1.548718</td>\n",
       "      <td>0.403034</td>\n",
       "      <td>-0.407193</td>\n",
       "      <td>0.095921</td>\n",
       "      <td>0.592941</td>\n",
       "      <td>-0.270533</td>\n",
       "      <td>0.817739</td>\n",
       "      <td>0.753074</td>\n",
       "      <td>...</td>\n",
       "      <td>-0.009431</td>\n",
       "      <td>0.798278</td>\n",
       "      <td>-0.137458</td>\n",
       "      <td>0.141267</td>\n",
       "      <td>-0.206010</td>\n",
       "      <td>0.502292</td>\n",
       "      <td>0.219422</td>\n",
       "      <td>0.215153</td>\n",
       "      <td>69.99</td>\n",
       "      <td>0</td>\n",
       "    </tr>\n",
       "  </tbody>\n",
       "</table>\n",
       "<p>5 rows × 30 columns</p>\n",
       "</div>"
      ],
      "text/plain": [
       "         V1        V2        V3        V4        V5        V6        V7  \\\n",
       "0 -1.359807 -0.072781  2.536347  1.378155 -0.338321  0.462388  0.239599   \n",
       "1  1.191857  0.266151  0.166480  0.448154  0.060018 -0.082361 -0.078803   \n",
       "2 -1.358354 -1.340163  1.773209  0.379780 -0.503198  1.800499  0.791461   \n",
       "3 -0.966272 -0.185226  1.792993 -0.863291 -0.010309  1.247203  0.237609   \n",
       "4 -1.158233  0.877737  1.548718  0.403034 -0.407193  0.095921  0.592941   \n",
       "\n",
       "         V8        V9       V10  ...       V21       V22       V23       V24  \\\n",
       "0  0.098698  0.363787  0.090794  ... -0.018307  0.277838 -0.110474  0.066928   \n",
       "1  0.085102 -0.255425 -0.166974  ... -0.225775 -0.638672  0.101288 -0.339846   \n",
       "2  0.247676 -1.514654  0.207643  ...  0.247998  0.771679  0.909412 -0.689281   \n",
       "3  0.377436 -1.387024 -0.054952  ... -0.108300  0.005274 -0.190321 -1.175575   \n",
       "4 -0.270533  0.817739  0.753074  ... -0.009431  0.798278 -0.137458  0.141267   \n",
       "\n",
       "        V25       V26       V27       V28  Amount  Class  \n",
       "0  0.128539 -0.189115  0.133558 -0.021053  149.62      0  \n",
       "1  0.167170  0.125895 -0.008983  0.014724    2.69      0  \n",
       "2 -0.327642 -0.139097 -0.055353 -0.059752  378.66      0  \n",
       "3  0.647376 -0.221929  0.062723  0.061458  123.50      0  \n",
       "4 -0.206010  0.502292  0.219422  0.215153   69.99      0  \n",
       "\n",
       "[5 rows x 30 columns]"
      ]
     },
     "execution_count": 3,
     "metadata": {},
     "output_type": "execute_result"
    }
   ],
   "source": [
    "df = pd.read_csv('/kaggle/input/creditcardfraud/creditcard.csv')\n",
    "df.drop('Time', axis = 1, inplace = True)\n",
    "\n",
    "df.head()"
   ]
  },
  {
   "cell_type": "markdown",
   "id": "e2e02370",
   "metadata": {
    "papermill": {
     "duration": 0.007238,
     "end_time": "2024-06-19T08:15:27.065156",
     "exception": false,
     "start_time": "2024-06-19T08:15:27.057918",
     "status": "completed"
    },
    "tags": []
   },
   "source": [
    "Data preprossing and EDA"
   ]
  },
  {
   "cell_type": "code",
   "execution_count": 4,
   "id": "632f52a7",
   "metadata": {
    "execution": {
     "iopub.execute_input": "2024-06-19T08:15:27.081869Z",
     "iopub.status.busy": "2024-06-19T08:15:27.081127Z",
     "iopub.status.idle": "2024-06-19T08:15:27.134290Z",
     "shell.execute_reply": "2024-06-19T08:15:27.133112Z"
    },
    "papermill": {
     "duration": 0.06445,
     "end_time": "2024-06-19T08:15:27.136922",
     "exception": false,
     "start_time": "2024-06-19T08:15:27.072472",
     "status": "completed"
    },
    "tags": []
   },
   "outputs": [
    {
     "name": "stdout",
     "output_type": "stream",
     "text": [
      "\u001b[1mCASE COUNT\u001b[0m\n",
      "\u001b[1m---------------------------------------------------------\u001b[0m\n",
      "\u001b[1mTotal number of cases are 284807\u001b[0m\n",
      "\u001b[1mNumber of non-fraud cases are 284315\u001b[0m\n",
      "\u001b[1mNumber of fraud cases are 492\u001b[0m\n",
      "\u001b[1mPercentage of fraud cases are 0.17\u001b[0m\n",
      "\u001b[1m---------------------------------------------------------\u001b[0m\n"
     ]
    }
   ],
   "source": [
    "# count & percentage\n",
    "\n",
    "\n",
    "no_of_total_cases = len(df)\n",
    "no_of_non_fraud_count = len(df[df.Class == 0])\n",
    "no_of_fraud_count = len(df[df.Class == 1])\n",
    "fraud_percentage = round(((no_of_fraud_count/no_of_total_cases)*100), 2)\n",
    "\n",
    "print(cl('CASE COUNT', attrs = ['bold']))\n",
    "print(cl('---------------------------------------------------------', attrs = ['bold']))\n",
    "print(cl(f'Total number of cases are {no_of_total_cases}', attrs = ['bold']))\n",
    "print(cl(f'Number of non-fraud cases are {no_of_non_fraud_count}', attrs = ['bold']))\n",
    "print(cl(f'Number of fraud cases are {no_of_fraud_count}', attrs = ['bold']))\n",
    "print(cl(f'Percentage of fraud cases are {fraud_percentage}', attrs = ['bold']))\n",
    "print(cl('---------------------------------------------------------', attrs = ['bold']))"
   ]
  },
  {
   "cell_type": "code",
   "execution_count": 5,
   "id": "d3068fb4",
   "metadata": {
    "execution": {
     "iopub.execute_input": "2024-06-19T08:15:27.153382Z",
     "iopub.status.busy": "2024-06-19T08:15:27.152940Z",
     "iopub.status.idle": "2024-06-19T08:15:27.218039Z",
     "shell.execute_reply": "2024-06-19T08:15:27.216832Z"
    },
    "papermill": {
     "duration": 0.076629,
     "end_time": "2024-06-19T08:15:27.220942",
     "exception": false,
     "start_time": "2024-06-19T08:15:27.144313",
     "status": "completed"
    },
    "tags": []
   },
   "outputs": [
    {
     "name": "stdout",
     "output_type": "stream",
     "text": [
      "\u001b[1mCASE AMOUNT STATISTICS\u001b[0m\n",
      "\u001b[1m---------------------------------------------------------\u001b[0m\n",
      "\u001b[1mNON-FRAUD CASE AMOUNT STATISTICS\u001b[0m\n",
      "count    284315.000000\n",
      "mean         88.291022\n",
      "std         250.105092\n",
      "min           0.000000\n",
      "25%           5.650000\n",
      "50%          22.000000\n",
      "75%          77.050000\n",
      "max       25691.160000\n",
      "Name: Amount, dtype: float64\n",
      "\u001b[1m---------------------------------------------------------\u001b[0m\n",
      "\u001b[1mFRAUD CASE AMOUNT STATISTICS\u001b[0m\n",
      "count     492.000000\n",
      "mean      122.211321\n",
      "std       256.683288\n",
      "min         0.000000\n",
      "25%         1.000000\n",
      "50%         9.250000\n",
      "75%       105.890000\n",
      "max      2125.870000\n",
      "Name: Amount, dtype: float64\n",
      "\u001b[1m---------------------------------------------------------\u001b[0m\n"
     ]
    }
   ],
   "source": [
    "# Description\n",
    "\n",
    "non_fraud_cases = df[df.Class == 0]\n",
    "fraud_cases = df[df.Class == 1]\n",
    "\n",
    "print(cl('CASE AMOUNT STATISTICS', attrs = ['bold']))\n",
    "print(cl('---------------------------------------------------------', attrs = ['bold']))\n",
    "print(cl('NON-FRAUD CASE AMOUNT STATISTICS', attrs = ['bold']))\n",
    "print(non_fraud_cases.Amount.describe())\n",
    "print(cl('---------------------------------------------------------', attrs = ['bold']))\n",
    "print(cl('FRAUD CASE AMOUNT STATISTICS', attrs = ['bold']))\n",
    "print(fraud_cases.Amount.describe())\n",
    "print(cl('---------------------------------------------------------', attrs = ['bold']))"
   ]
  },
  {
   "cell_type": "code",
   "execution_count": 6,
   "id": "853c44b6",
   "metadata": {
    "execution": {
     "iopub.execute_input": "2024-06-19T08:15:27.237948Z",
     "iopub.status.busy": "2024-06-19T08:15:27.237534Z",
     "iopub.status.idle": "2024-06-19T08:15:27.279568Z",
     "shell.execute_reply": "2024-06-19T08:15:27.278407Z"
    },
    "papermill": {
     "duration": 0.053473,
     "end_time": "2024-06-19T08:15:27.282157",
     "exception": false,
     "start_time": "2024-06-19T08:15:27.228684",
     "status": "completed"
    },
    "tags": []
   },
   "outputs": [
    {
     "name": "stdout",
     "output_type": "stream",
     "text": [
      "\u001b[1m0    0.244964\n",
      "1   -0.342475\n",
      "2    1.160686\n",
      "3    0.140534\n",
      "4   -0.073403\n",
      "Name: Amount, dtype: float64\u001b[0m\n"
     ]
    }
   ],
   "source": [
    "#  Data Pre-Processing\n",
    "\n",
    "\n",
    "sc = StandardScaler()\n",
    "amount = df['Amount'].values\n",
    "\n",
    "df['Amount'] = sc.fit_transform(amount.reshape(-1, 1))\n",
    "\n",
    "print(cl(df['Amount'].head(5), attrs = ['bold']))"
   ]
  },
  {
   "cell_type": "code",
   "execution_count": 7,
   "id": "059657bc",
   "metadata": {
    "execution": {
     "iopub.execute_input": "2024-06-19T08:15:27.299886Z",
     "iopub.status.busy": "2024-06-19T08:15:27.298904Z",
     "iopub.status.idle": "2024-06-19T08:15:27.526598Z",
     "shell.execute_reply": "2024-06-19T08:15:27.525447Z"
    },
    "papermill": {
     "duration": 0.23957,
     "end_time": "2024-06-19T08:15:27.529425",
     "exception": false,
     "start_time": "2024-06-19T08:15:27.289855",
     "status": "completed"
    },
    "tags": []
   },
   "outputs": [
    {
     "name": "stdout",
     "output_type": "stream",
     "text": [
      "\u001b[1mX_train samples : \u001b[0m [[-1.11504743  1.03558276  0.80071244 -1.06039825  0.03262117  0.85342216\n",
      "  -0.61424348 -3.23116112  1.53994798 -0.81690879 -1.30559201  0.1081772\n",
      "  -0.85960958 -0.07193421  0.90665563 -1.72092961  0.79785322 -0.0067594\n",
      "   1.95677806 -0.64489556  3.02038533 -0.53961798  0.03315649 -0.77494577\n",
      "   0.10586781 -0.43085348  0.22973694 -0.0705913  -0.30145418]]\n",
      "\u001b[1mX_test samples : \u001b[0m [[-0.32333357  1.05745525 -0.04834115 -0.60720431  1.25982115 -0.09176072\n",
      "   1.1591015  -0.12433461 -0.17463954 -1.64440065 -1.11886302  0.20264731\n",
      "   1.14596495 -1.80235956 -0.24717793 -0.06094535  0.84660574  0.37945439\n",
      "   0.84726224  0.18640942 -0.20709827 -0.43389027 -0.26161328 -0.04665061\n",
      "   0.2115123   0.00829721  0.10849443  0.16113917 -0.19330595]]\n",
      "\u001b[1my_train samples : \u001b[0m [0 0 0 0 0 0 0 0 0 0 0 0 0 0 0 0 0 0 0 0]\n",
      "\u001b[1my_test samples : \u001b[0m [0 0 0 0 0 0 0 0 0 0 0 0 0 0 0 0 0 0 0 0]\n"
     ]
    }
   ],
   "source": [
    "# Data Split\n",
    "\n",
    "\n",
    "X = df.drop('Class', axis = 1).values\n",
    "y = df.Class.values\n",
    "\n",
    "X_train, X_test, y_train, y_test = train_test_split(X, y, test_size = 0.2, random_state = 0)\n",
    "\n",
    "print(cl('X_train samples : ', attrs = ['bold']), X_train[:1])\n",
    "print(cl('X_test samples : ', attrs = ['bold']), X_test[0:1])\n",
    "print(cl('y_train samples : ', attrs = ['bold']), y_train[0:20])\n",
    "print(cl('y_test samples : ', attrs = ['bold']), y_train[0:20])"
   ]
  },
  {
   "cell_type": "markdown",
   "id": "d35874c3",
   "metadata": {
    "papermill": {
     "duration": 0.007805,
     "end_time": "2024-06-19T08:15:27.545116",
     "exception": false,
     "start_time": "2024-06-19T08:15:27.537311",
     "status": "completed"
    },
    "tags": []
   },
   "source": [
    "Modeling"
   ]
  },
  {
   "cell_type": "code",
   "execution_count": 8,
   "id": "70592ef6",
   "metadata": {
    "execution": {
     "iopub.execute_input": "2024-06-19T08:15:27.561895Z",
     "iopub.status.busy": "2024-06-19T08:15:27.561504Z",
     "iopub.status.idle": "2024-06-19T08:17:28.091800Z",
     "shell.execute_reply": "2024-06-19T08:17:28.090720Z"
    },
    "papermill": {
     "duration": 120.542147,
     "end_time": "2024-06-19T08:17:28.094762",
     "exception": false,
     "start_time": "2024-06-19T08:15:27.552615",
     "status": "completed"
    },
    "tags": []
   },
   "outputs": [],
   "source": [
    "# 1. Logistic Regression\n",
    "\n",
    "\n",
    "model_lr = LogisticRegression()\n",
    "model_lr.fit(X_train, y_train)\n",
    "lr_predict = model_lr.predict(X_test)\n",
    "\n",
    "\n",
    "# 2. Random Forest\n",
    "\n",
    "\n",
    "model_rf = RandomForestClassifier(max_depth=6)\n",
    "model_rf.fit(X_train, y_train)\n",
    "rf_predict = model_rf.predict(X_test)"
   ]
  },
  {
   "cell_type": "markdown",
   "id": "9cd40a01",
   "metadata": {
    "papermill": {
     "duration": 0.007524,
     "end_time": "2024-06-19T08:17:28.110262",
     "exception": false,
     "start_time": "2024-06-19T08:17:28.102738",
     "status": "completed"
    },
    "tags": []
   },
   "source": [
    "Model Evaluation Report"
   ]
  },
  {
   "cell_type": "code",
   "execution_count": 9,
   "id": "53d7ae2b",
   "metadata": {
    "execution": {
     "iopub.execute_input": "2024-06-19T08:17:28.128337Z",
     "iopub.status.busy": "2024-06-19T08:17:28.127407Z",
     "iopub.status.idle": "2024-06-19T08:17:28.144585Z",
     "shell.execute_reply": "2024-06-19T08:17:28.143175Z"
    },
    "papermill": {
     "duration": 0.028969,
     "end_time": "2024-06-19T08:17:28.147141",
     "exception": false,
     "start_time": "2024-06-19T08:17:28.118172",
     "status": "completed"
    },
    "tags": []
   },
   "outputs": [
    {
     "name": "stdout",
     "output_type": "stream",
     "text": [
      "\u001b[1mACCURACY SCORE\u001b[0m\n",
      "\u001b[1m---------------------------------------------------------\u001b[0m\n",
      "\u001b[1m\u001b[31mAccuracy score of Logistic Regression model is 0.9991924440855307\u001b[0m\n",
      "\u001b[1m---------------------------------------------------------\u001b[0m\n",
      "\u001b[1m\u001b[32mAccuracy score of Random Forest model is 0.9993504441557529\u001b[0m\n",
      "\u001b[1m---------------------------------------------------------\u001b[0m\n"
     ]
    }
   ],
   "source": [
    "# 1. Accuracy score\n",
    "\n",
    "\n",
    "print(cl('ACCURACY SCORE', attrs = ['bold']))\n",
    "print(cl('---------------------------------------------------------', attrs = ['bold']))\n",
    "print(cl(f'Accuracy score of Logistic Regression model is {accuracy_score(y_test, lr_predict)}', attrs = ['bold'], color = 'red'))\n",
    "print(cl('---------------------------------------------------------', attrs = ['bold']))\n",
    "print(cl(f'Accuracy score of Random Forest model is {accuracy_score(y_test, rf_predict)}', attrs = ['bold'], color = 'green'))\n",
    "print(cl('---------------------------------------------------------', attrs = ['bold']))"
   ]
  },
  {
   "cell_type": "code",
   "execution_count": 10,
   "id": "80f68ac7",
   "metadata": {
    "execution": {
     "iopub.execute_input": "2024-06-19T08:17:28.165559Z",
     "iopub.status.busy": "2024-06-19T08:17:28.164716Z",
     "iopub.status.idle": "2024-06-19T08:17:28.208300Z",
     "shell.execute_reply": "2024-06-19T08:17:28.207032Z"
    },
    "papermill": {
     "duration": 0.055819,
     "end_time": "2024-06-19T08:17:28.210908",
     "exception": false,
     "start_time": "2024-06-19T08:17:28.155089",
     "status": "completed"
    },
    "tags": []
   },
   "outputs": [
    {
     "name": "stdout",
     "output_type": "stream",
     "text": [
      "\u001b[1mF1 SCORE\u001b[0m\n",
      "\u001b[1m---------------------------------------------------------\u001b[0m\n",
      "\u001b[1m\u001b[31mF1 score of Logistic Regression model is 0.7356321839080459\u001b[0m\n",
      "\u001b[1m---------------------------------------------------------\u001b[0m\n",
      "\u001b[1m\u001b[32mF1 score of Random Forest model is 0.7955801104972375\u001b[0m\n",
      "\u001b[1m---------------------------------------------------------\u001b[0m\n"
     ]
    }
   ],
   "source": [
    "# 2. F1 Score\n",
    "\n",
    "\n",
    "print(cl('F1 SCORE', attrs = ['bold']))\n",
    "print(cl('---------------------------------------------------------', attrs = ['bold']))\n",
    "print(cl(f'F1 score of Logistic Regression model is {f1_score(y_test, lr_predict)}', attrs = ['bold'], color = 'red'))\n",
    "print(cl('---------------------------------------------------------', attrs = ['bold']))\n",
    "print(cl(f'F1 score of Random Forest model is {f1_score(y_test, rf_predict)}', attrs = ['bold'], color = 'green'))\n",
    "print(cl('---------------------------------------------------------', attrs = ['bold']))"
   ]
  },
  {
   "cell_type": "code",
   "execution_count": 11,
   "id": "8f539b52",
   "metadata": {
    "execution": {
     "iopub.execute_input": "2024-06-19T08:17:28.229374Z",
     "iopub.status.busy": "2024-06-19T08:17:28.228364Z",
     "iopub.status.idle": "2024-06-19T08:17:28.248329Z",
     "shell.execute_reply": "2024-06-19T08:17:28.247151Z"
    },
    "papermill": {
     "duration": 0.03216,
     "end_time": "2024-06-19T08:17:28.251115",
     "exception": false,
     "start_time": "2024-06-19T08:17:28.218955",
     "status": "completed"
    },
    "tags": []
   },
   "outputs": [
    {
     "data": {
      "text/html": [
       "<div>\n",
       "<style scoped>\n",
       "    .dataframe tbody tr th:only-of-type {\n",
       "        vertical-align: middle;\n",
       "    }\n",
       "\n",
       "    .dataframe tbody tr th {\n",
       "        vertical-align: top;\n",
       "    }\n",
       "\n",
       "    .dataframe thead th {\n",
       "        text-align: right;\n",
       "    }\n",
       "</style>\n",
       "<table border=\"1\" class=\"dataframe\">\n",
       "  <thead>\n",
       "    <tr style=\"text-align: right;\">\n",
       "      <th></th>\n",
       "      <th>Predicted Non-Default(0)</th>\n",
       "      <th>Predicted Default(1)</th>\n",
       "    </tr>\n",
       "  </thead>\n",
       "  <tbody>\n",
       "    <tr>\n",
       "      <th>Non-Default(0)</th>\n",
       "      <td>56852</td>\n",
       "      <td>9</td>\n",
       "    </tr>\n",
       "    <tr>\n",
       "      <th>Default(1)</th>\n",
       "      <td>37</td>\n",
       "      <td>64</td>\n",
       "    </tr>\n",
       "  </tbody>\n",
       "</table>\n",
       "</div>"
      ],
      "text/plain": [
       "                Predicted Non-Default(0)  Predicted Default(1)\n",
       "Non-Default(0)                     56852                     9\n",
       "Default(1)                            37                    64"
      ]
     },
     "execution_count": 11,
     "metadata": {},
     "output_type": "execute_result"
    }
   ],
   "source": [
    "# 3. Confusion Matrix\n",
    "\n",
    "\n",
    "# 1. Logistic Regression\n",
    "\n",
    "lr_cmatrix = np.array(confusion_matrix(y_test, lr_predict, labels=[0,1]))\n",
    "lr_confusion = pd.DataFrame(lr_cmatrix, index=['Non-Default(0)', 'Default(1)'], columns=['Predicted Non-Default(0)', 'Predicted Default(1)'])\n",
    "lr_confusion"
   ]
  },
  {
   "cell_type": "code",
   "execution_count": 12,
   "id": "55c8a964",
   "metadata": {
    "execution": {
     "iopub.execute_input": "2024-06-19T08:17:28.269680Z",
     "iopub.status.busy": "2024-06-19T08:17:28.269282Z",
     "iopub.status.idle": "2024-06-19T08:17:28.286421Z",
     "shell.execute_reply": "2024-06-19T08:17:28.285260Z"
    },
    "papermill": {
     "duration": 0.029673,
     "end_time": "2024-06-19T08:17:28.289180",
     "exception": false,
     "start_time": "2024-06-19T08:17:28.259507",
     "status": "completed"
    },
    "tags": []
   },
   "outputs": [
    {
     "data": {
      "text/html": [
       "<div>\n",
       "<style scoped>\n",
       "    .dataframe tbody tr th:only-of-type {\n",
       "        vertical-align: middle;\n",
       "    }\n",
       "\n",
       "    .dataframe tbody tr th {\n",
       "        vertical-align: top;\n",
       "    }\n",
       "\n",
       "    .dataframe thead th {\n",
       "        text-align: right;\n",
       "    }\n",
       "</style>\n",
       "<table border=\"1\" class=\"dataframe\">\n",
       "  <thead>\n",
       "    <tr style=\"text-align: right;\">\n",
       "      <th></th>\n",
       "      <th>Predicted Non-Default(0)</th>\n",
       "      <th>Predicted Default(1)</th>\n",
       "    </tr>\n",
       "  </thead>\n",
       "  <tbody>\n",
       "    <tr>\n",
       "      <th>Non-Default(0)</th>\n",
       "      <td>56853</td>\n",
       "      <td>8</td>\n",
       "    </tr>\n",
       "    <tr>\n",
       "      <th>Default(1)</th>\n",
       "      <td>29</td>\n",
       "      <td>72</td>\n",
       "    </tr>\n",
       "  </tbody>\n",
       "</table>\n",
       "</div>"
      ],
      "text/plain": [
       "                Predicted Non-Default(0)  Predicted Default(1)\n",
       "Non-Default(0)                     56853                     8\n",
       "Default(1)                            29                    72"
      ]
     },
     "execution_count": 12,
     "metadata": {},
     "output_type": "execute_result"
    }
   ],
   "source": [
    "# 2. Random Forest\n",
    "\n",
    "rf_cmatrix = np.array(confusion_matrix(y_test, rf_predict, labels=[0,1]))\n",
    "rf_confusion = pd.DataFrame(rf_cmatrix, index=['Non-Default(0)', 'Default(1)'], columns=['Predicted Non-Default(0)', 'Predicted Default(1)'])\n",
    "rf_confusion "
   ]
  },
  {
   "cell_type": "code",
   "execution_count": 13,
   "id": "5b58d4bb",
   "metadata": {
    "execution": {
     "iopub.execute_input": "2024-06-19T08:17:28.308502Z",
     "iopub.status.busy": "2024-06-19T08:17:28.307482Z",
     "iopub.status.idle": "2024-06-19T08:17:28.620536Z",
     "shell.execute_reply": "2024-06-19T08:17:28.619399Z"
    },
    "papermill": {
     "duration": 0.325458,
     "end_time": "2024-06-19T08:17:28.623185",
     "exception": false,
     "start_time": "2024-06-19T08:17:28.297727",
     "status": "completed"
    },
    "tags": []
   },
   "outputs": [
    {
     "data": {
      "text/plain": [
       "Text(50.72222222222221, 0.5, 'True')"
      ]
     },
     "execution_count": 13,
     "metadata": {},
     "output_type": "execute_result"
    },
    {
     "data": {
      "image/png": "[encoded data removed]",
      "text/plain": [
       "<Figure size 640x480 with 2 Axes>"
      ]
     },
     "metadata": {},
     "output_type": "display_data"
    }
   ],
   "source": [
    "# Plot Confusion Matrix\n",
    "\n",
    "\n",
    "# 1. logistic Regression\n",
    "\n",
    "s = sns.heatmap(lr_confusion, cmap='Blues', annot=True, annot_kws={\"size\": 10, \"weight\":\"bold\"}, linewidth=.1, linecolor='black', fmt='.1f')\n",
    "s.set_title(\"Confusion Matrix of Logistic Regression\", fontsize=14)\n",
    "s.set_xlabel(\"Predicted\", fontsize=13)\n",
    "s.set_ylabel(\"True\", fontsize=13)"
   ]
  },
  {
   "cell_type": "code",
   "execution_count": 14,
   "id": "06ea4b76",
   "metadata": {
    "execution": {
     "iopub.execute_input": "2024-06-19T08:17:28.644236Z",
     "iopub.status.busy": "2024-06-19T08:17:28.643385Z",
     "iopub.status.idle": "2024-06-19T08:17:28.977133Z",
     "shell.execute_reply": "2024-06-19T08:17:28.975809Z"
    },
    "papermill": {
     "duration": 0.347408,
     "end_time": "2024-06-19T08:17:28.979950",
     "exception": false,
     "start_time": "2024-06-19T08:17:28.632542",
     "status": "completed"
    },
    "tags": []
   },
   "outputs": [
    {
     "data": {
      "text/plain": [
       "Text(50.72222222222221, 0.5, 'True')"
      ]
     },
     "execution_count": 14,
     "metadata": {},
     "output_type": "execute_result"
    },
    {
     "data": {
      "image/png": "[encoded data removed]",
      "text/plain": [
       "<Figure size 640x480 with 2 Axes>"
      ]
     },
     "metadata": {},
     "output_type": "display_data"
    }
   ],
   "source": [
    "# 2. Random Forest\n",
    "\n",
    "s = sns.heatmap(rf_confusion, cmap='Blues', annot=True, annot_kws={\"size\": 10, \"weight\":\"bold\"}, linewidth=.1, linecolor='black', fmt='.1f')\n",
    "s.set_title(\"Confusion Matrix of Random Forest\", fontsize=14)\n",
    "s.set_xlabel(\"Predicted\", fontsize=13)\n",
    "s.set_ylabel(\"True\", fontsize=13)"
   ]
  }
 ],
 "metadata": {
  "kaggle": {
   "accelerator": "none",
   "dataSources": [
    {
     "datasetId": 310,
     "sourceId": 23498,
     "sourceType": "datasetVersion"
    }
   ],
   "dockerImageVersionId": 30474,
   "isGpuEnabled": false,
   "isInternetEnabled": true,
   "language": "python",
   "sourceType": "notebook"
  },
  "kernelspec": {
   "display_name": "Python 3 (ipykernel)",
   "language": "python",
   "name": "python3"
  },
  "language_info": {
   "codemirror_mode": {
    "name": "ipython",
    "version": 3
   },
   "file_extension": ".py",
   "mimetype": "text/x-python",
   "name": "python",
   "nbconvert_exporter": "python",
   "pygments_lexer": "ipython3",
   "version": "3.10.9"
  },
  "papermill": {
   "default_parameters": {},
   "duration": 143.390608,
   "end_time": "2024-06-19T08:17:30.114197",
   "environment_variables": {},
   "exception": null,
   "input_path": "__notebook__.ipynb",
   "output_path": "__notebook__.ipynb",
   "parameters": {},
   "start_time": "2024-06-19T08:15:06.723589",
   "version": "2.4.0"
  }
 },
 "nbformat": 4,
 "nbformat_minor": 5
}
